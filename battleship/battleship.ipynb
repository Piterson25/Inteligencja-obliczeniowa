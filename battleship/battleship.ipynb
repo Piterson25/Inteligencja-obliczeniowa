{
 "cells":[
  {
   "cell_type":"markdown",
   "source":[
    "# Battleship Puzzle\n",
    "\n",
    " Battleship Puzzle to gra logiczna, w której gracz ma za zadanie odnaleźć położenie statków na planszy określonym rozmiarze i liczbie statków. Plansza jest podzielona na siatkę, w której każde pole może być albo puste, albo zajmowane przez statek. Gracz otrzymuje wskazówki w postaci liczb umieszczonych przy kolumnach i wierszach planszy, które określają ile \"kawałków\" statków znajduje się w danej kolumnie lub wierszu.\n",
    "\n",
    "Celem tego projektu jest wykorzystanie algorytmów genetycznych do rozwiązania problemu Battleship Puzzle.\n",
    "\n",
    "## Biblioteki\n",
    "\n",
    "Do realizacji projektu wykorzystano następujące biblioteki:\n",
    "\n",
    "* matplotlib - wykresy efektywności\n",
    "* pygad - algorytmy genetyczne\n",
    "* numpy - matematyczne operatory\n",
    "* time - pomiar czasu trwania algorytmu\n",
    "\n",
    "## Dane wejściowe\n",
    "Battleship Puzzle możemy reprezentować za pomocą macierzy binarnej, w której 0 oznacza pole puste, a 1 oznacza pole zajęte przez statek. Wartości liczb wskazówek określają, ile \"kawałków\" statków znajduje się w danej kolumnie lub wierszu.\n",
    "Poniższy przykład pokazuje wszystkie rodzaje inputów:"
   ],
   "attachments":{
    
   },
   "metadata":{
    "datalore":{
     "node_id":"B9GLh4Q3EEP6Aywt8Mf72R",
     "type":"MD",
     "hide_input_from_viewers":false,
     "hide_output_from_viewers":false,
     "report_properties":{
      "rowId":"hRnLEv2zWeS78ljr6G6UBH"
     }
    }
   }
  },
  {
   "cell_type":"code",
   "source":[
    "import matplotlib.pyplot as plt\n",
    "import numpy as np\n",
    "import pygad\n",
    "import time\n",
    "\n",
    "gene_space = [0, 1]\n",
    "\n",
    "inputs = [\n",
    "    {\"column_counts\": [2, 0, 2, 2, 0, 4],\n",
    "     \"row_counts\": [1, 4, 1, 0, 2, 2],\n",
    "     \"start_positions\": {(0, 0): 0, (3, 4): 1},\n",
    "     \"correct\": [\n",
    "         [0, 0, 0, 0, 0, 1],\n",
    "         [1, 0, 1, 1, 0, 1],\n",
    "         [0, 0, 0, 0, 0, 1],\n",
    "         [0, 0, 0, 0, 0, 0],\n",
    "         [0, 0, 1, 1, 0, 0],\n",
    "         [1, 0, 0, 0, 0, 1]\n",
    "     ]},\n",
    "    {\"column_counts\": [3, 1, 1, 3, 0, 2],\n",
    "     \"row_counts\": [2, 0, 2, 4, 1, 1],\n",
    "     \"start_positions\": {(0, 4): 1, (0, 5): 0},\n",
    "     \"correct\": [\n",
    "         [0, 1, 0, 1, 0, 0],\n",
    "         [0, 0, 0, 0, 0, 0],\n",
    "         [1, 0, 0, 0, 0, 1],\n",
    "         [1, 0, 1, 1, 0, 1],\n",
    "         [1, 0, 0, 0, 0, 0],\n",
    "         [0, 0, 0, 1, 0, 0]\n",
    "     ]},\n",
    "    {\"column_counts\": [3, 0, 2, 1, 3, 1],\n",
    "     \"row_counts\": [2, 1, 2, 1, 4, 0],\n",
    "     \"start_positions\": {(2, 1): 1, (2, 3): 0},\n",
    "     \"correct\": [\n",
    "         [1, 0, 0, 0, 1, 0],\n",
    "         [0, 0, 1, 0, 0, 0],\n",
    "         [0, 0, 1, 0, 1, 0],\n",
    "         [1, 0, 0, 0, 0, 0],\n",
    "         [1, 0, 0, 1, 1, 1],\n",
    "         [0, 0, 0, 0, 0, 0]\n",
    "     ]},\n",
    "    {\"column_counts\": [5, 1, 5, 1, 0, 3, 0, 5, 1, 4],\n",
    "     \"row_counts\": [3, 2, 2, 2, 3, 3, 4, 3, 1, 2],\n",
    "     \"start_positions\": {(0, 0): 0, (7, 1): 0, (7, 3): 1, (5, 5): 1, (1, 6): 1, (1, 7): 0,\n",
    "                         (9, 6): 0, (9, 8): 1, (2, 9): 1, (7, 9): 1},\n",
    "     \"correct\": [\n",
    "         [0, 0, 1, 0, 0, 0, 0, 0, 1, 1],\n",
    "         [1, 0, 1, 0, 0, 0, 0, 0, 0, 0],\n",
    "         [1, 0, 1, 0, 0, 0, 0, 0, 0, 0],\n",
    "         [1, 0, 0, 0, 0, 0, 0, 1, 0, 0],\n",
    "         [1, 0, 1, 0, 0, 0, 0, 1, 0, 0],\n",
    "         [0, 0, 0, 0, 0, 1, 0, 1, 0, 1],\n",
    "         [1, 1, 0, 0, 0, 1, 0, 1, 0, 0],\n",
    "         [0, 0, 0, 1, 0, 1, 0, 1, 0, 0],\n",
    "         [0, 0, 0, 0, 0, 0, 0, 0, 0, 1],\n",
    "         [0, 0, 1, 0, 0, 0, 0, 0, 0, 1]\n",
    "     ]},\n",
    "    {\"column_counts\": [6, 1, 3, 3, 0, 2, 3, 3, 1, 3],\n",
    "     \"row_counts\": [3, 2, 4, 1, 6, 2, 2, 2, 3, 0],\n",
    "     \"start_positions\": {(1, 0): 1, (9, 1): 0, (0, 2): 0, (6, 3): 0, (6, 5): 0, (2, 5): 1,\n",
    "                         (2, 6): 1, (2, 7): 1, (5, 7): 0, (6, 7): 1},\n",
    "     \"correct\": [\n",
    "         [1, 1, 0, 1, 0, 0, 0, 0, 0, 0],\n",
    "         [0, 0, 0, 1, 0, 0, 0, 1, 0, 0],\n",
    "         [0, 0, 0, 1, 0, 1, 0, 1, 0, 1],\n",
    "         [1, 0, 0, 0, 0, 0, 0, 0, 0, 0],\n",
    "         [1, 0, 0, 0, 0, 1, 1, 1, 1, 1],\n",
    "         [1, 0, 1, 0, 0, 0, 0, 0, 0, 0],\n",
    "         [1, 0, 1, 0, 0, 0, 0, 0, 0, 0],\n",
    "         [0, 0, 1, 0, 0, 0, 1, 0, 0, 0],\n",
    "         [1, 0, 0, 0, 0, 0, 1, 0, 0, 1],\n",
    "         [0, 0, 0, 0, 0, 0, 0, 0, 0, 0]\n",
    "     ]},\n",
    "    {\"column_counts\": [0, 2, 4, 2, 4, 0, 6, 0, 6, 1],\n",
    "     \"row_counts\": [3, 2, 2, 2, 3, 4, 1, 5, 1, 2],\n",
    "     \"start_positions\": {(0, 3): 1, (8, 2): 1, (1, 3): 0, (6, 4): 1, (3, 5): 0, (9, 5): 1,\n",
    "                         (1, 6): 0, (4, 6): 0, (6, 8): 1, (2, 9): 0},\n",
    "     \"correct\": [\n",
    "         [0, 0, 1, 1, 0, 0, 0, 0, 1, 0],\n",
    "         [0, 0, 0, 0, 0, 0, 1, 0, 1, 0],\n",
    "         [0, 0, 0, 0, 1, 0, 0, 0, 1, 0],\n",
    "         [0, 0, 1, 0, 1, 0, 0, 0, 0, 0],\n",
    "         [0, 0, 1, 0, 1, 0, 1, 0, 0, 0],\n",
    "         [0, 0, 0, 0, 1, 0, 1, 0, 1, 1],\n",
    "         [0, 0, 0, 0, 0, 0, 1, 0, 0, 0],\n",
    "         [0, 1, 1, 1, 0, 0, 1, 0, 1, 0],\n",
    "         [0, 0, 0, 0, 0, 0, 1, 0, 0, 0],\n",
    "         [0, 1, 0, 0, 0, 0, 0, 0, 1, 0]\n",
    "     ]},\n",
    "    {\"column_counts\": [0, 2, 3, 6, 1, 1, 0, 6, 1, 1, 4, 2],\n",
    "     \"row_counts\": [1, 2, 4, 2, 0, 6, 1, 2, 1, 3, 3, 2],\n",
    "     \"start_positions\": {(4, 1): 1, (10, 1): 1, (7, 2): 1, (1, 3): 0, (8, 3): 0, (9, 3): 0, (1, 6): 0,\n",
    "                         (3, 6): 1, (3, 7): 1, (5, 10): 1, (10, 9): 1, (10, 10): 0, (9, 11): 0, (11, 11): 1},\n",
    "     \"correct\": [\n",
    "         [0, 0, 0, 1, 0, 0, 0, 0, 0, 0, 0, 0],\n",
    "         [0, 0, 0, 1, 0, 0, 0, 0, 0, 0, 1, 0],\n",
    "         [0, 1, 0, 1, 0, 0, 0, 1, 0, 0, 1, 0],\n",
    "         [0, 0, 0, 1, 0, 0, 0, 1, 0, 0, 0, 0],\n",
    "         [0, 0, 0, 0, 0, 0, 0, 0, 0, 0, 0, 0],\n",
    "         [0, 1, 0, 0, 0, 0, 0, 1, 1, 1, 1, 1],\n",
    "         [0, 0, 0, 1, 0, 0, 0, 0, 0, 0, 0, 0],\n",
    "         [0, 0, 0, 1, 0, 0, 0, 1, 0, 0, 0, 0],\n",
    "         [0, 0, 0, 0, 0, 0, 0, 1, 0, 0, 0, 0],\n",
    "         [0, 0, 1, 0, 0, 0, 0, 1, 0, 0, 1, 0],\n",
    "         [0, 0, 1, 0, 1, 1, 0, 0, 0, 0, 0, 0],\n",
    "         [0, 0, 1, 0, 0, 0, 0, 0, 0, 0, 0, 1]\n",
    "     ]},\n",
    "    {\"column_counts\": [1, 4, 2, 4, 2, 0, 2, 0, 7, 1, 4, 0],\n",
    "     \"row_counts\": [6, 0, 1, 4, 1, 1, 0, 4, 2, 4, 3, 1],\n",
    "     \"start_positions\": {(6, 3): 0, (9, 3): 1, (0, 4): 0, (1, 4): 0, (2, 4): 0, (1, 5): 0,\n",
    "                         (3, 5): 1,  (4, 7): 1, (10, 7): 1, (10, 8): 1, (0, 9): 1, (3, 9): 0, (3, 10): 0},\n",
    "     \"correct\": [\n",
    "         [0, 1, 1, 1, 1, 0, 1, 0, 1, 0, 0, 0],\n",
    "         [0, 0, 0, 0, 0, 0, 0, 0, 0, 0, 0, 0],\n",
    "         [0, 1, 0, 0, 0, 0, 0, 0, 0, 0, 0, 0],\n",
    "         [0, 1, 0, 0, 0, 0, 0, 0, 1, 1, 1, 0],\n",
    "         [0, 0, 0, 1, 0, 0, 0, 0, 0, 0, 0, 0],\n",
    "         [0, 0, 0, 1, 0, 0, 0, 0, 0, 0, 0, 0],\n",
    "         [0, 0, 0, 0, 0, 0, 0, 0, 0, 0, 0, 0],\n",
    "         [0, 0, 0, 1, 1, 0, 0, 0, 1, 0, 1, 0],\n",
    "         [0, 0, 0, 0, 0, 0, 0, 0, 1, 0, 1, 0],\n",
    "         [1, 1, 1, 0, 0, 0, 0, 0, 1, 0, 0, 0],\n",
    "         [0, 0, 0, 0, 0, 0, 1, 0, 1, 0, 1, 0],\n",
    "         [0, 0, 0, 0, 0, 0, 0, 0, 1, 0, 0, 0]\n",
    "     ]},\n",
    "    {\"column_counts\": [2, 2, 0, 2, 4, 1, 0, 2, 5, 1, 0, 8],\n",
    "     \"row_counts\": [1, 4, 2, 3, 2, 1, 3, 5, 2, 1, 0, 3],\n",
    "     \"start_positions\": {(8, 0): 0, (11, 0): 1, (9, 1): 1, (11, 3): 1, (7, 3): 0, (8, 3): 1, (1, 4): 0, (3, 4): 1,\n",
    "                         (7, 4): 0, (1, 5): 1, (7, 6): 0, (11, 6): 1, (0, 9): 0, (1, 11): 0, (5, 11): 1, (9, 11): 1},\n",
    "     \"correct\": [\n",
    "         [0, 0, 0, 0, 0, 0, 0, 0, 0, 0, 0, 1],\n",
    "         [0, 0, 0, 0, 0, 0, 0, 0, 1, 1, 1, 1],\n",
    "         [1, 0, 0, 0, 0, 0, 0, 0, 0, 0, 0, 1],\n",
    "         [0, 0, 0, 1, 0, 0, 0, 0, 1, 0, 0, 1],\n",
    "         [0, 0, 0, 1, 0, 0, 0, 0, 0, 0, 0, 1],\n",
    "         [0, 1, 0, 0, 0, 0, 0, 0, 0, 0, 0, 0],\n",
    "         [0, 0, 0, 0, 1, 0, 0, 0, 1, 0, 0, 1],\n",
    "         [1, 1, 0, 0, 1, 0, 0, 0, 1, 0, 0, 1],\n",
    "         [0, 0, 0, 0, 1, 0, 0, 0, 0, 0, 0, 1],\n",
    "         [0, 0, 0, 0, 1, 0, 0, 0, 0, 0, 0, 0],\n",
    "         [0, 0, 0, 0, 0, 0, 0, 0, 0, 0, 0, 0],\n",
    "         [0, 0, 0, 0, 1, 0, 1, 1, 0, 0, 0, 0]\n",
    "     ]}\n",
    "]\n",
    "\n",
    "correctnesses = [[], [], []]\n",
    "times = [[], [], []]"
   ],
   "execution_count":80,
   "outputs":[
    
   ],
   "metadata":{
    "datalore":{
     "node_id":"QgPIkwJwz4xhZJw2hUnOON",
     "type":"CODE",
     "hide_input_from_viewers":false,
     "hide_output_from_viewers":false,
     "report_properties":{
      "rowId":"ygff6UMvbdADnTWHDTA2DI"
     }
    }
   }
  },
  {
   "cell_type":"markdown",
   "source":[
    "W projekcie mamy po 3 plansze każdego rozwiaru inputów, t.j: plansze 6x6, 10x10 i 12x12.\n",
    "Każda input opisany jest przez 4 wartości:\n",
    "\n",
    "* column_counts - wskazówki dla kolumn\n",
    "* row_counts - wskazówki dla wierszy\n",
    "* start_positions - pozycje które dostaje się na początku gry\n",
    "* correct - poprawne rozwiązanie\n",
    "\n",
    "W zależności od rozmiaru planszy jest inna liczba statków, które należy wykryć. Lista długości statków dla poszczególnych plansz:\n",
    "\n",
    "* 6x6 - 1 statek długości 3, 2 statki długości 2, 3 statki długości 1\n",
    "* 10x10 - 1 statek długości 5, 1 statek długości 4, 2 statki długości 3, 3 statki długości 2, 4 statki długości 1\n",
    "* 12x12 - 1 statek długości 5, 1 statek długości 4, 2 statki długości 3, 4 statki długości 2, 4 statki długości 1\n",
    "\n",
    "Oto implementacja w kodzie:"
   ],
   "attachments":{
    
   },
   "metadata":{
    "datalore":{
     "node_id":"kuZxIeT5pSYRRuDYZXVIXN",
     "type":"MD",
     "hide_input_from_viewers":false,
     "hide_output_from_viewers":false,
     "report_properties":{
      "rowId":"4yL46k7B5HAHyJiLq4XKD7"
     }
    }
   }
  },
  {
   "cell_type":"code",
   "source":[
    "for input_values in inputs:\n",
    "    column_counts = input_values['column_counts']\n",
    "    row_counts = input_values['row_counts']\n",
    "    start_positions = input_values['start_positions']\n",
    "\n",
    "    # board_size = (len(column_counts), len(row_counts))\n",
    "\n",
    "    ship_lengths = []\n",
    "\n",
    "    if board_size[0] == 6:\n",
    "        ship_lengths = [3, 2, 2, 1, 1, 1]\n",
    "    elif board_size[0] == 10:\n",
    "        ship_lengths = [5, 4, 3, 3, 2, 2, 2, 1, 1, 1, 1]\n",
    "    elif board_size[0] == 12:\n",
    "        ship_lengths = [5, 4, 3, 3, 2, 2, 2, 2, 1, 1, 1, 1]\n",
    "\n",
    "    print(f\"Rozmiar inputu: {board_size[0]}x{board_size[1]}\")\n",
    "    print(\"Kolumny:\", column_counts)\n",
    "    print(\"Wiersze:\", row_counts)\n",
    "    print(\"Poczatkowe pozycje:\", start_positions)"
   ],
   "execution_count":81,
   "outputs":[
    {
     "name":"stdout",
     "text":[
      "Rozmiar inputu: 10x10\n",
      "Kolumny: [2, 0, 2, 2, 0, 4]\n",
      "Wiersze: [1, 4, 1, 0, 2, 2]\n",
      "Poczatkowe pozycje: {(0, 0): 0, (3, 4): 1}\n",
      "Rozmiar inputu: 10x10\n",
      "Kolumny: [3, 1, 1, 3, 0, 2]\n",
      "Wiersze: [2, 0, 2, 4, 1, 1]\n",
      "Poczatkowe pozycje: {(0, 4): 1, (0, 5): 0}\n",
      "Rozmiar inputu: 10x10\n",
      "Kolumny: [3, 0, 2, 1, 3, 1]\n",
      "Wiersze: [2, 1, 2, 1, 4, 0]\n",
      "Poczatkowe pozycje: {(2, 1): 1, (2, 3): 0}\n",
      "Rozmiar inputu: 10x10\n",
      "Kolumny: [5, 1, 5, 1, 0, 3, 0, 5, 1, 4]\n",
      "Wiersze: [3, 2, 2, 2, 3, 3, 4, 3, 1, 2]\n",
      "Poczatkowe pozycje: {(0, 0): 0, (7, 1): 0, (7, 3): 1, (5, 5): 1, (1, 6): 1, (1, 7): 0, (9, 6): 0, (9, 8): 1, (2, 9): 1, (7, 9): 1}\n",
      "Rozmiar inputu: 10x10\n",
      "Kolumny: [6, 1, 3, 3, 0, 2, 3, 3, 1, 3]\n",
      "Wiersze: [3, 2, 4, 1, 6, 2, 2, 2, 3, 0]\n",
      "Poczatkowe pozycje: {(1, 0): 1, (9, 1): 0, (0, 2): 0, (6, 3): 0, (6, 5): 0, (2, 5): 1, (2, 6): 1, (2, 7): 1, (5, 7): 0, (6, 7): 1}\n",
      "Rozmiar inputu: 10x10\n",
      "Kolumny: [0, 2, 4, 2, 4, 0, 6, 0, 6, 1]\n",
      "Wiersze: [3, 2, 2, 2, 3, 4, 1, 5, 1, 2]\n",
      "Poczatkowe pozycje: {(0, 3): 1, (8, 2): 1, (1, 3): 0, (6, 4): 1, (3, 5): 0, (9, 5): 1, (1, 6): 0, (4, 6): 0, (6, 8): 1, (2, 9): 0}\n",
      "Rozmiar inputu: 10x10\n",
      "Kolumny: [0, 2, 3, 6, 1, 1, 0, 6, 1, 1, 4, 2]\n",
      "Wiersze: [1, 2, 4, 2, 0, 6, 1, 2, 1, 3, 3, 2]\n",
      "Poczatkowe pozycje: {(4, 1): 1, (10, 1): 1, (7, 2): 1, (1, 3): 0, (8, 3): 0, (9, 3): 0, (1, 6): 0, (3, 6): 1, (3, 7): 1, (5, 10): 1, (10, 9): 1, (10, 10): 0, (9, 11): 0, (11, 11): 1}\n",
      "Rozmiar inputu: 10x10\n",
      "Kolumny: [1, 4, 2, 4, 2, 0, 2, 0, 7, 1, 4, 0]\n",
      "Wiersze: [6, 0, 1, 4, 1, 1, 0, 4, 2, 4, 3, 1]\n",
      "Poczatkowe pozycje: {(6, 3): 0, (9, 3): 1, (0, 4): 0, (1, 4): 0, (2, 4): 0, (1, 5): 0, (3, 5): 1, (4, 7): 1, (10, 7): 1, (10, 8): 1, (0, 9): 1, (3, 9): 0, (3, 10): 0}\n",
      "Rozmiar inputu: 10x10\n",
      "Kolumny: [2, 2, 0, 2, 4, 1, 0, 2, 5, 1, 0, 8]\n",
      "Wiersze: [1, 4, 2, 3, 2, 1, 3, 5, 2, 1, 0, 3]\n",
      "Poczatkowe pozycje: {(8, 0): 0, (11, 0): 1, (9, 1): 1, (11, 3): 1, (7, 3): 0, (8, 3): 1, (1, 4): 0, (3, 4): 1, (7, 4): 0, (1, 5): 1, (7, 6): 0, (11, 6): 1, (0, 9): 0, (1, 11): 0, (5, 11): 1, (9, 11): 1}\n"
     ],
     "output_type":"stream"
    }
   ],
   "metadata":{
    "datalore":{
     "node_id":"G8ep0nwW2qfi5iimm4b39G",
     "type":"CODE",
     "hide_input_from_viewers":false,
     "hide_output_from_viewers":false,
     "report_properties":{
      "rowId":"J67JfDxFysQqmg9vuaM5UK"
     }
    }
   }
  },
  {
   "cell_type":"markdown",
   "source":[
    "## Algorytm genetyczny\n",
    "\n",
    "Chromosom będzie listą o długości odpowiadającej sumie ilości elementów na planszy, czyli nxn. Każdy element będzie kodować, czy pole planszy jest puste (0), czy zajęte (1). Populacja będzie wynosiła 3 krotną liczbę genów w chromosomie. Wielkość populacji została dobrana tak, aby zapewnić jak najlepsze wyniki, ale również aby była w miarę możliwość szybka. Eksperymenty były prowadzone przy użyciu 200 pokoleń, przy 20% szansie na mutację."
   ],
   "attachments":{
    
   },
   "metadata":{
    "datalore":{
     "node_id":"h6xNQgLOMdYV06zgFYAPN8",
     "type":"MD",
     "hide_input_from_viewers":false,
     "hide_output_from_viewers":false,
     "report_properties":{
      "rowId":"v06laocbVLPqKOYe7OPRRl"
     }
    }
   }
  },
  {
   "cell_type":"code",
   "source":[
    "sol_per_pop = board_size[0] * board_size[1] * 3\n",
    "num_genes = board_size[0] * board_size[1]\n",
    "\n",
    "num_parents_mating = board_size[0] * board_size[1]\n",
    "num_generations = 200\n",
    "keep_parents = 5\n",
    "\n",
    "parent_selection_type = \"sss\"\n",
    "\n",
    "crossover_type = \"single_point\"\n",
    "\n",
    "mutation_type = \"random\"\n",
    "mutation_percent_genes = 20"
   ],
   "execution_count":82,
   "outputs":[
    
   ],
   "metadata":{
    "datalore":{
     "node_id":"v6R0lpQl0wzkuvAlctcequ",
     "type":"CODE",
     "hide_input_from_viewers":false,
     "hide_output_from_viewers":false,
     "report_properties":{
      "rowId":"ctgGxTV8TCvYSinnO2TZrj"
     }
    }
   }
  },
  {
   "cell_type":"markdown",
   "source":[
    "### Zakres funkcji fitness\n",
    "\n",
    "Funkcja fitness przyjmuje wartości z zakresu (0, 1), gdzie 1 oznacza, że plansza kodowana przez chromosom jest identyczna z poprawną planszą, a 0 oznacza, że plansza kodowana przez chromosom nie ma żadnego pola takiego samego jak poprawna plansza."
   ],
   "attachments":{
    
   },
   "metadata":{
    "datalore":{
     "node_id":"FU51tBl6zOJJuOpVwRjSW7",
     "type":"MD",
     "hide_input_from_viewers":false,
     "hide_output_from_viewers":false,
     "report_properties":{
      "rowId":"5kHnPHtprPQ2iZQSZUY9AF"
     }
    }
   }
  },
  {
   "cell_type":"code",
   "source":[
    "def fitness_func(solution, solution_idx):\n",
    "    # Konwertujemy rozwiązanie do postaci planszy o wymiarach board_size.\n",
    "    sol_board = np.array(solution.reshape(board_size))\n",
    "\n",
    "    fitness = 0\n",
    "\n",
    "    # Sprawdzamy czy wartości startowe pokrywaja sie z rozwiązaniem\n",
    "    for position, value in start_positions.items():\n",
    "        row, col = position\n",
    "        if sol_board[col][row] == value:\n",
    "            fitness += 50\n",
    "\n",
    "    # Sprawdzamy czy liczba suma (1) zgadza się z sumą długości wszystkich statków do odnalezienia\n",
    "    ship_sum = sum([sum(sublist) for sublist in sol_board])\n",
    "\n",
    "    if ship_sum == sum(ship_lengths):\n",
    "        fitness += 100\n",
    "\n",
    "    # Sprawdzamy ilość kawałków statków w rzędach.\n",
    "    for i in range(board_size[0]):\n",
    "        row_sum = np.sum(sol_board[i])\n",
    "        if row_sum == row_counts[i]:\n",
    "            fitness += 50\n",
    "\n",
    "    # Sprawdzamy ilość kawałków statków w kolumnach.\n",
    "    for j in range(board_size[1]):\n",
    "        column_sum = np.sum(sol_board[:, j])\n",
    "        if column_sum == column_counts[j]:\n",
    "            fitness += 50\n",
    "\n",
    "    # Inicjalizujemy słownik na pozycje odkrytych statków\n",
    "    ship_positions = {length: [] for length in ship_lengths}\n",
    "\n",
    "    # Sprawdzamy położenie statków na planszy\n",
    "    for length in ship_lengths:\n",
    "        find_ships(length, sol_board, ship_positions)\n",
    "\n",
    "    # Sprawdzamy ilość statków i kolizje\n",
    "    for ship in ship_positions:\n",
    "        if len(ship_positions[ship]) == ship * sum(1 for x in ship_lengths if x == ship):\n",
    "            fitness += 30\n",
    "        if len(set(ship_positions[ship])) != len(ship_positions[ship]):\n",
    "            fitness -= 30\n",
    "\n",
    "    return fitness"
   ],
   "execution_count":83,
   "outputs":[
    
   ],
   "metadata":{
    "datalore":{
     "node_id":"pinsIiODqxCmwif1UxkTOa",
     "type":"CODE",
     "hide_input_from_viewers":false,
     "hide_output_from_viewers":false,
     "report_properties":{
      "rowId":"WP1IR2vE77hPbBrwlMYIha"
     }
    }
   }
  },
  {
   "cell_type":"markdown",
   "source":[
    "Dodatkowo została użyta funkcja pomocnicza w odnajdowaniu statków i zwracaniu ich położeń w rozwiązaniu:"
   ],
   "attachments":{
    
   },
   "metadata":{
    "datalore":{
     "node_id":"frFpeTGQTmrfvjeMIezXJz",
     "type":"MD",
     "hide_input_from_viewers":false,
     "hide_output_from_viewers":false,
     "report_properties":{
      "rowId":"8YfvkWA4uiCqyLl2iHv7dt"
     }
    }
   }
  },
  {
   "cell_type":"code",
   "source":[
    "def find_ships(length, sol_board, ships_positions):\n",
    "    for i in range(board_size[0]):\n",
    "        for j in range(board_size[1]):\n",
    "            # Sprawdzamy czy to może być potencjalny statek (czy nie koliduje ze wskazówkami)\n",
    "            if sol_board[i, j] == 1 and column_counts[i] != 0 and row_counts[j] != 0:\n",
    "\n",
    "                # Dodanie wstępnej pozycji\n",
    "                new_ship_positions = [(i, j)]\n",
    "\n",
    "                # Wyjście w przypadku statku o długości 1\n",
    "                if length == 1:\n",
    "                    ships_positions[length].extend(new_ship_positions)\n",
    "                    return\n",
    "\n",
    "                # Sprawdzanie kolejnych długości statków idąc w dół\n",
    "                down_check = True\n",
    "                for k in range(1, length):\n",
    "                    if j + k < board_size[1] and sol_board[i, j + k] == 1 and column_counts[i] != 0:\n",
    "                        new_ship_positions.append((i, j + k))\n",
    "                    else:\n",
    "                        down_check = False\n",
    "                        new_ship_positions.clear()\n",
    "                        break\n",
    "\n",
    "                # Wyjście w przypadku pomyślnego odnalezienia\n",
    "                if down_check:\n",
    "                    ships_positions[length].extend(new_ship_positions)\n",
    "                    return\n",
    "\n",
    "                # Sprawdzanie kolejnych długości statków idąc w górę\n",
    "                up_check = True\n",
    "                for k in range(1, length):\n",
    "                    if j - k >= 0 and sol_board[i, j - k] == 1 and column_counts[i] != 0:\n",
    "                        new_ship_positions.append((i, j - k))\n",
    "                    else:\n",
    "                        up_check = False\n",
    "                        new_ship_positions.clear()\n",
    "                        break\n",
    "\n",
    "                # Wyjście w przypadku pomyślnego odnalezienia\n",
    "                if up_check:\n",
    "                    ships_positions[length].extend(new_ship_positions)\n",
    "                    return\n",
    "\n",
    "                # Sprawdzanie kolejnych długości statków idąc w lewo\n",
    "                left_check = True\n",
    "                for k in range(1, length):\n",
    "                    if i - k >= 0 and sol_board[i - k, j] == 1 and row_counts[j] != 0:\n",
    "                        new_ship_positions.append((i - k, j))\n",
    "                    else:\n",
    "                        left_check = False\n",
    "                        new_ship_positions.clear()\n",
    "                        break\n",
    "\n",
    "                # Wyjście w przypadku pomyślnego odnalezienia\n",
    "                if left_check:\n",
    "                    ships_positions[length].extend(new_ship_positions)\n",
    "                    return\n",
    "\n",
    "                # Sprawdzanie kolejnych długości statków idąc w prawo\n",
    "                right_check = True\n",
    "                for k in range(1, length):\n",
    "                    if i + k < board_size[0] and sol_board[i + k, j] == 1 and row_counts[j] != 0:\n",
    "                        new_ship_positions.append((i + k, j))\n",
    "                    else:\n",
    "                        right_check = False\n",
    "                        new_ship_positions.clear()\n",
    "                        break\n",
    "\n",
    "                # Wyjście w przypadku pomyślnego odnalezienia\n",
    "                if right_check:\n",
    "                    ships_positions[length].extend(new_ship_positions)\n",
    "                    return"
   ],
   "execution_count":84,
   "outputs":[
    
   ],
   "metadata":{
    "datalore":{
     "node_id":"xO2n5BWmNsA6Jlbp711Xxr",
     "type":"CODE",
     "hide_input_from_viewers":false,
     "hide_output_from_viewers":false,
     "report_properties":{
      "rowId":"lrNZJwa6r1MvlvrYmHk4aE"
     }
    }
   }
  },
  {
   "cell_type":"markdown",
   "source":[
    "Użyta jest również funkcja do liczenia procentu dopasowania najlepszego rozwiązania do rozwiązania idealnego:"
   ],
   "attachments":{
    
   },
   "metadata":{
    "datalore":{
     "node_id":"aLR0crSqsYi5QMpB3dinsO",
     "type":"MD",
     "hide_input_from_viewers":true,
     "hide_output_from_viewers":true
    }
   }
  },
  {
   "cell_type":"code",
   "source":[
    "def compare_matrixes(matrix_a, matrix_b):\n",
    "    n = len(matrix_a)\n",
    "    m = len(matrix_a[0])\n",
    "    same = 0\n",
    "\n",
    "    for i in range(n):\n",
    "        for j in range(m):\n",
    "            if matrix_a[i][j] == matrix_b[i][j]:\n",
    "                same += 1\n",
    "\n",
    "    return (same \/ (n * m)) * 100"
   ],
   "execution_count":85,
   "outputs":[
    
   ],
   "metadata":{
    "datalore":{
     "node_id":"RnWfpY6Mh5UnPwDdKqHArr",
     "type":"CODE",
     "hide_input_from_viewers":true,
     "hide_output_from_viewers":true
    }
   }
  },
  {
   "cell_type":"markdown",
   "source":[
    "## Uruchomienie algorytmu"
   ],
   "attachments":{
    
   },
   "metadata":{
    "datalore":{
     "node_id":"qe6CwWZzNVocYal34T1J17",
     "type":"MD",
     "hide_input_from_viewers":true,
     "hide_output_from_viewers":true
    }
   }
  },
  {
   "cell_type":"code",
   "source":[
    "fitness_function = fitness_func\n",
    "\n",
    "for input_values in inputs:\n",
    "    column_counts = input_values['column_counts']\n",
    "    row_counts = input_values['row_counts']\n",
    "    start_positions = input_values['start_positions']\n",
    "\n",
    "    board_size = (len(column_counts), len(row_counts))\n",
    "\n",
    "    ship_lengths = []\n",
    "\n",
    "    if board_size[0] == 6:\n",
    "        ship_lengths = [3, 2, 2, 1, 1, 1]\n",
    "    elif board_size[0] == 10:\n",
    "        ship_lengths = [5, 4, 3, 3, 2, 2, 2, 1, 1, 1, 1]\n",
    "    elif board_size[0] == 12:\n",
    "        ship_lengths = [5, 4, 3, 3, 2, 2, 2, 2, 1, 1, 1, 1]\n",
    "\n",
    "    sol_per_pop = board_size[0] * board_size[1] * 3\n",
    "    num_genes = board_size[0] * board_size[1]\n",
    "\n",
    "    num_parents_mating = board_size[0] * board_size[1]\n",
    "    num_generations = 200\n",
    "    keep_parents = 5\n",
    "\n",
    "    parent_selection_type = \"sss\"\n",
    "\n",
    "    crossover_type = \"single_point\"\n",
    "\n",
    "    mutation_type = \"random\"\n",
    "    mutation_percent_genes = 20\n",
    "\n",
    "    start_time = time.time()\n",
    "\n",
    "    # inicjacja algorytmu z powyzszymi parametrami wpisanymi w atrybuty\n",
    "    ga_instance = pygad.GA(gene_space=gene_space,\n",
    "                        num_generations=num_generations,\n",
    "                        num_parents_mating=num_parents_mating,\n",
    "                        fitness_func=fitness_function,\n",
    "                        sol_per_pop=sol_per_pop,\n",
    "                        num_genes=num_genes,\n",
    "                        parent_selection_type=parent_selection_type,\n",
    "                        keep_parents=keep_parents,\n",
    "                        crossover_type=crossover_type,\n",
    "                        mutation_type=mutation_type,\n",
    "                        mutation_percent_genes=mutation_percent_genes)\n",
    "\n",
    "    # uruchomienie algorytmu\n",
    "    ga_instance.run()\n",
    "\n",
    "    end_time = round(time.time() - start_time, 2)\n",
    "\n",
    "    # podsumowanie: najlepsze znalezione rozwiazanie (chromosom+ocena)\n",
    "    solution, solution_fitness, solution_idx = ga_instance.best_solution()\n",
    "\n",
    "    print('-' * 3 * board_size[0])\n",
    "    print(f\"Czas wykonywania algorytmu = {end_time}s\")\n",
    "    print(\"Fitness najlepszego rozwiazania = {solution_fitness}\".format(\n",
    "        solution_fitness=solution_fitness))\n",
    "\n",
    "    solution_print = [list(map(int, sublist)) for sublist in solution.reshape((len(column_counts), len(row_counts)))]\n",
    "\n",
    "    correctness = round(compare_matrixes(solution_print, input_values[\"correct\"]), 2)\n",
    "\n",
    "    print(f\"Prawidlowosc idealnego rozwiazania = {correctness}%\")\n",
    "\n",
    "    if board_size[0] == 6:\n",
    "        correctnesses[0].append(correctness)\n",
    "        times[0].append(end_time)\n",
    "    elif board_size[0] == 10:\n",
    "        correctnesses[1].append(correctness)\n",
    "        times[1].append(end_time)\n",
    "    elif board_size[0] == 12:\n",
    "        correctnesses[2].append(correctness)\n",
    "        times[2].append(end_time)\n",
    "\n",
    "    # Wyświetlenie najlepszego rozwiązania\n",
    "    print(\"Parametry najlepszego rozwiazania:\")\n",
    "    for row in solution_print:\n",
    "        print(row)\n",
    "    print('=' * 3 * board_size[0])\n",
    "    print()\n",
    "\n",
    "    ga_instance.plot_fitness()\n",
    "        "
   ],
   "execution_count":86,
   "outputs":[
    {
     "name":"stdout",
     "text":[
      "------------------\n",
      "Czas wykonywania algorytmu = 4.92s\n",
      "Fitness najlepszego rozwiazania = 500\n",
      "Prawidlowosc idealnego rozwiazania = 72.22%\n",
      "A\n",
      "Parametry najlepszego rozwiazania:\n",
      "[0, 0, 0, 1, 0, 0]\n",
      "[1, 0, 0, 0, 0, 1]\n",
      "[0, 0, 0, 0, 0, 1]\n",
      "[1, 1, 1, 1, 0, 0]\n",
      "[0, 0, 1, 1, 0, 0]\n",
      "[0, 0, 0, 0, 0, 0]\n",
      "==================\n",
      "\n",
      "------------------\n",
      "Czas wykonywania algorytmu = 4.95s\n",
      "Fitness najlepszego rozwiazania = 580\n",
      "Prawidlowosc idealnego rozwiazania = 66.67%\n",
      "A\n",
      "Parametry najlepszego rozwiazania:\n",
      "[1, 0, 1, 0, 0, 0]\n",
      "[0, 0, 0, 0, 0, 0]\n",
      "[1, 1, 0, 0, 0, 0]\n",
      "[0, 1, 0, 1, 1, 1]\n",
      "[1, 0, 0, 0, 0, 0]\n",
      "[0, 0, 1, 0, 0, 0]\n",
      "==================\n",
      "\n",
      "------------------\n",
      "Czas wykonywania algorytmu = 4.95s\n",
      "Fitness najlepszego rozwiazania = 550\n",
      "Prawidlowosc idealnego rozwiazania = 61.11%\n",
      "A\n",
      "Parametry najlepszego rozwiazania:\n",
      "[0, 0, 0, 0, 1, 1]\n",
      "[1, 1, 1, 0, 0, 0]\n",
      "[1, 1, 0, 0, 0, 0]\n",
      "[0, 1, 0, 0, 0, 0]\n",
      "[1, 1, 0, 1, 1, 0]\n",
      "[0, 0, 1, 0, 1, 0]\n",
      "==================\n",
      "\n",
      "------------------------------\n",
      "Czas wykonywania algorytmu = 29.43s\n",
      "Fitness najlepszego rozwiazania = 880\n",
      "Prawidlowosc idealnego rozwiazania = 59.0%\n",
      "A\n",
      "Parametry najlepszego rozwiazania:\n",
      "[0, 0, 1, 1, 0, 1, 1, 0, 1, 1]\n",
      "[1, 1, 0, 1, 1, 0, 0, 0, 0, 0]\n",
      "[1, 0, 1, 1, 1, 0, 0, 1, 0, 0]\n",
      "[1, 1, 0, 0, 1, 1, 1, 1, 0, 0]\n",
      "[0, 0, 0, 0, 0, 0, 0, 1, 0, 1]\n",
      "[0, 0, 0, 1, 0, 1, 0, 0, 0, 1]\n",
      "[0, 1, 1, 1, 1, 0, 1, 0, 0, 0]\n",
      "[1, 0, 0, 0, 0, 0, 1, 1, 0, 0]\n",
      "[1, 1, 1, 0, 1, 0, 1, 0, 0, 1]\n",
      "[0, 1, 1, 1, 1, 1, 0, 1, 0, 0]\n",
      "==============================\n",
      "\n",
      "------------------------------\n",
      "Czas wykonywania algorytmu = 29.37s\n",
      "Fitness najlepszego rozwiazania = 910\n",
      "Prawidlowosc idealnego rozwiazania = 56.0%\n",
      "A\n",
      "Parametry najlepszego rozwiazania:\n",
      "[1, 1, 1, 1, 1, 0, 0, 1, 1, 0]\n",
      "[1, 0, 1, 0, 0, 0, 0, 0, 0, 0]\n",
      "[0, 1, 1, 0, 0, 0, 0, 1, 1, 0]\n",
      "[0, 0, 0, 0, 1, 0, 0, 0, 0, 1]\n",
      "[1, 1, 0, 0, 0, 0, 0, 0, 0, 1]\n",
      "[0, 1, 1, 0, 1, 1, 0, 1, 1, 0]\n",
      "[0, 1, 1, 1, 1, 1, 0, 1, 0, 0]\n",
      "[1, 0, 1, 0, 0, 0, 1, 1, 0, 0]\n",
      "[1, 0, 0, 1, 0, 0, 1, 0, 0, 0]\n",
      "[1, 1, 0, 1, 1, 0, 1, 0, 0, 1]\n",
      "==============================\n",
      "\n",
      "------------------------------\n",
      "Czas wykonywania algorytmu = 30.83s\n",
      "Fitness najlepszego rozwiazania = 910\n",
      "Prawidlowosc idealnego rozwiazania = 52.0%\n",
      "A\n",
      "Parametry najlepszego rozwiazania:\n",
      "[0, 0, 1, 0, 1, 0, 1, 0, 1, 0]\n",
      "[1, 1, 1, 1, 1, 0, 0, 0, 0, 0]\n",
      "[0, 0, 1, 1, 0, 1, 0, 1, 1, 1]\n",
      "[1, 0, 0, 0, 0, 0, 0, 1, 1, 0]\n",
      "[0, 0, 0, 1, 0, 0, 1, 1, 0, 0]\n",
      "[0, 1, 0, 0, 0, 0, 0, 1, 0, 1]\n",
      "[0, 0, 0, 1, 0, 0, 1, 0, 1, 0]\n",
      "[0, 0, 0, 1, 0, 0, 1, 1, 1, 1]\n",
      "[1, 0, 1, 1, 1, 1, 1, 0, 1, 1]\n",
      "[0, 0, 0, 1, 1, 0, 1, 0, 0, 0]\n",
      "==============================\n",
      "\n",
      "------------------------------------\n",
      "Czas wykonywania algorytmu = 51.11s\n",
      "Fitness najlepszego rozwiazania = 980\n",
      "Prawidlowosc idealnego rozwiazania = 58.33%\n",
      "A\n",
      "Parametry najlepszego rozwiazania:\n",
      "[1, 0, 0, 1, 0, 0, 1, 1, 1, 0, 0, 1]\n",
      "[1, 0, 0, 1, 1, 1, 1, 1, 0, 1, 1, 0]\n",
      "[0, 0, 1, 0, 0, 0, 0, 1, 1, 1, 1, 1]\n",
      "[0, 0, 0, 0, 0, 0, 0, 0, 0, 0, 1, 1]\n",
      "[1, 1, 0, 1, 1, 1, 0, 0, 1, 0, 0, 1]\n",
      "[1, 0, 0, 0, 0, 1, 1, 1, 0, 0, 1, 1]\n",
      "[0, 0, 0, 1, 0, 0, 0, 0, 0, 0, 1, 1]\n",
      "[0, 0, 0, 1, 0, 1, 0, 0, 0, 0, 1, 0]\n",
      "[1, 1, 1, 0, 0, 1, 1, 1, 1, 0, 0, 1]\n",
      "[1, 0, 1, 0, 0, 1, 1, 1, 0, 1, 0, 0]\n",
      "[0, 0, 0, 0, 1, 1, 0, 0, 1, 1, 0, 0]\n",
      "[0, 0, 0, 1, 1, 1, 0, 0, 1, 0, 1, 1]\n",
      "====================================\n",
      "\n",
      "------------------------------------\n",
      "Czas wykonywania algorytmu = 48.15s\n",
      "Fitness najlepszego rozwiazania = 1030\n",
      "Prawidlowosc idealnego rozwiazania = 56.25%\n",
      "A\n",
      "Parametry najlepszego rozwiazania:\n",
      "[1, 0, 0, 1, 0, 0, 0, 0, 1, 1, 1, 1]\n",
      "[1, 1, 0, 0, 0, 1, 0, 1, 1, 0, 0, 1]\n",
      "[0, 1, 0, 0, 0, 1, 0, 1, 1, 0, 0, 0]\n",
      "[0, 1, 0, 0, 0, 0, 0, 0, 0, 1, 1, 1]\n",
      "[0, 0, 0, 0, 0, 1, 1, 0, 0, 1, 0, 1]\n",
      "[1, 0, 0, 1, 1, 1, 1, 1, 1, 0, 0, 0]\n",
      "[1, 1, 0, 0, 0, 0, 1, 0, 1, 1, 0, 1]\n",
      "[1, 1, 0, 1, 1, 0, 0, 1, 0, 0, 1, 1]\n",
      "[1, 0, 1, 0, 0, 0, 0, 1, 1, 1, 1, 1]\n",
      "[1, 0, 1, 0, 0, 0, 0, 0, 1, 1, 0, 1]\n",
      "[0, 1, 0, 0, 0, 1, 0, 1, 0, 0, 0, 0]\n",
      "[0, 0, 0, 1, 1, 1, 1, 1, 0, 1, 0, 1]\n",
      "====================================\n",
      "\n",
      "------------------------------------\n",
      "Czas wykonywania algorytmu = 48.35s\n",
      "Fitness najlepszego rozwiazania = 1010\n",
      "Prawidlowosc idealnego rozwiazania = 52.08%\n",
      "A\n",
      "Parametry najlepszego rozwiazania:\n",
      "[1, 1, 1, 1, 1, 1, 1, 0, 0, 1, 0, 1]\n",
      "[1, 0, 0, 1, 0, 0, 1, 0, 0, 1, 0, 0]\n",
      "[1, 0, 0, 1, 0, 1, 0, 0, 1, 0, 0, 0]\n",
      "[0, 1, 0, 1, 0, 1, 0, 0, 1, 0, 0, 0]\n",
      "[1, 0, 1, 1, 0, 0, 1, 0, 1, 0, 1, 1]\n",
      "[1, 1, 0, 1, 1, 0, 1, 0, 0, 0, 0, 1]\n",
      "[1, 0, 0, 0, 0, 1, 1, 0, 1, 1, 1, 1]\n",
      "[0, 1, 0, 0, 1, 0, 1, 1, 0, 1, 1, 1]\n",
      "[1, 0, 0, 0, 0, 0, 0, 0, 0, 1, 0, 0]\n",
      "[0, 0, 0, 1, 0, 1, 1, 0, 0, 1, 1, 1]\n",
      "[1, 1, 0, 1, 1, 0, 1, 1, 0, 1, 1, 1]\n",
      "[0, 0, 1, 0, 1, 0, 0, 0, 1, 1, 0, 1]\n",
      "====================================\n",
      "\n"
     ],
     "output_type":"stream"
    },
    {
     "data":{
      "image\/png":"[encoded data removed]"
     },
     "metadata":{
      "image\/png":{
       
      }
     },
     "output_type":"display_data"
    },
    {
     "data":{
      "image\/png":"[encoded data removed]"
     },
     "metadata":{
      "image\/png":{
       
      }
     },
     "output_type":"display_data"
    },
    {
     "data":{
      "image\/png":"[encoded data removed]"
     },
     "metadata":{
      "image\/png":{
       
      }
     },
     "output_type":"display_data"
    },
    {
     "data":{
      "image\/png":"[encoded data removed]"
     },
     "metadata":{
      "image\/png":{
       
      }
     },
     "output_type":"display_data"
    },
    {
     "data":{
      "image\/png":"[encoded data removed]"
     },
     "metadata":{
      "image\/png":{
       
      }
     },
     "output_type":"display_data"
    },
    {
     "data":{
      "image\/png":"[encoded data removed]"
     },
     "metadata":{
      "image\/png":{
       
      }
     },
     "output_type":"display_data"
    },
    {
     "data":{
      "image\/png":"[encoded data removed]"
     },
     "metadata":{
      "image\/png":{
       
      }
     },
     "output_type":"display_data"
    },
    {
     "data":{
      "image\/png":"[encoded data removed]"
     },
     "metadata":{
      "image\/png":{
       
      }
     },
     "output_type":"display_data"
    },
    {
     "data":{
      "image\/png":"[encoded data removed]"
     },
     "metadata":{
      "image\/png":{
       
      }
     },
     "output_type":"display_data"
    }
   ],
   "metadata":{
    "datalore":{
     "node_id":"3nHUKZzGUTzoT0b9GcLVdb",
     "type":"CODE",
     "hide_input_from_viewers":true,
     "hide_output_from_viewers":true
    }
   }
  },
  {
   "cell_type":"markdown",
   "source":[
    
   ],
   "attachments":{
    
   },
   "metadata":{
    "datalore":{
     "node_id":"9EYnAqDl7DalozCdan7ZcA",
     "type":"MD",
     "hide_input_from_viewers":true,
     "hide_output_from_viewers":true
    }
   }
  },
  {
   "cell_type":"markdown",
   "source":[
    "## Sprawdzenie efektywności algorytmu genetycznego\n",
    "\n",
    "Algorytm genetyczny był sprawdzany na 100 powtórzeniach dla wszystkich 9 różnych inputów. Brane pod uwagę były procent prawidłowości do idealnego rozwiązania oraz czas wykonania."
   ],
   "attachments":{
    
   },
   "metadata":{
    "datalore":{
     "node_id":"4BCVBEmDrJVMh8kd94V6gN",
     "type":"MD",
     "hide_input_from_viewers":true,
     "hide_output_from_viewers":true
    }
   }
  },
  {
   "cell_type":"code",
   "source":[
    "print('-' * 30)\n",
    "\n",
    "correctness_rounded = [np.mean(c) for c in correctnesses]\n",
    "\n",
    "print(correctness_rounded)\n",
    "\n",
    "# tworzenie wykresu\n",
    "plt.bar(range(len(correctness_rounded)), correctness_rounded)\n",
    "\n",
    "# dodanie etykiet osi\n",
    "plt.xticks(range(len(correctness_rounded)), ['Input 6x6', 'Input 10x10', 'Input 12x12'])\n",
    "plt.ylabel('Średnia prawidłowść rozwiązania (%)')\n",
    "\n",
    "# wyświetlenie wykresu\n",
    "plt.show()\n",
    "\n",
    "\n",
    "print('Średnia prawidłowść rozwiązania')\n",
    "print(f'Małe inputy: {correctnesses[0]}%')\n",
    "print(f'Średnie inputy: {correctnesses[1]}%')\n",
    "print(f'Duże inputy: {correctnesses[2]}%\\n')\n",
    "\n",
    "times_rounded = [np.mean(t) for t in times]\n",
    "\n",
    "# tworzenie wykresu\n",
    "plt.bar(range(len(times_rounded)), times_rounded)\n",
    "\n",
    "# dodanie etykiet osi\n",
    "plt.xticks(range(len(times_rounded)), ['Input 6x6', 'Input 10x10', 'Input 12x12'])\n",
    "plt.ylabel('Średni czas (s)')\n",
    "\n",
    "# wyświetlenie wykresu\n",
    "plt.show()\n",
    "\n",
    "print('Średni czas')\n",
    "print(f'Małe inputy: {times[0]}s')\n",
    "print(f'Średnie inputy: {times[1]}s')\n",
    "print(f'Duże inputy: {times[2]}s')"
   ],
   "execution_count":88,
   "outputs":[
    {
     "name":"stdout",
     "text":[
      "------------------------------\n",
      "[66.66666666666667, 55.666666666666664, 55.553333333333335]\n",
      "Średnia prawidłowść rozwiązania\n",
      "Małe inputy: [72.22, 66.67, 61.11]%\n",
      "Średnie inputy: [59.0, 56.0, 52.0]%\n",
      "Duże inputy: [58.33, 56.25, 52.08]%\n",
      "\n",
      "Średni czas\n",
      "Małe inputy: [4.92, 4.95, 4.95]s\n",
      "Średnie inputy: [29.43, 29.37, 30.83]s\n",
      "Duże inputy: [51.11, 48.15, 48.35]s\n"
     ],
     "output_type":"stream"
    },
    {
     "data":{
      "image\/png":"[encoded data removed]"
     },
     "metadata":{
      "image\/png":{
       
      }
     },
     "output_type":"display_data"
    },
    {
     "data":{
      "image\/png":"[encoded data removed]"
     },
     "metadata":{
      "image\/png":{
       
      }
     },
     "output_type":"display_data"
    }
   ],
   "metadata":{
    "datalore":{
     "node_id":"s1hO8IwXWfadfxuBeAcEwD",
     "type":"CODE",
     "hide_input_from_viewers":true,
     "hide_output_from_viewers":true
    }
   }
  },
  {
   "cell_type":"markdown",
   "source":[
    "## Bilbiografia\n",
    "\n",
    "* Wikipedia: [https:\/\/en.wikipedia.org\/wiki\/Battleship_(puzzle)](https:\/\/en.wikipedia.org\/wiki\/Battleship_(puzzle))\n",
    "* Strona z grą: [https:\/\/www.puzzle-battleships.com\/](https:\/\/www.puzzle-battleships.com\/)\n",
    "* Strona z grą 2: [https:\/\/www.brainbashers.com\/battleships.asp?error=Y](https:\/\/www.brainbashers.com\/battleships.asp?error=Y)\n",
    "* Film na YouTube: [https:\/\/www.youtube.com\/watch?v=pZqraGPa6gw](https:\/\/www.youtube.com\/watch?v=pZqraGPa6gw)"
   ],
   "attachments":{
    
   },
   "metadata":{
    "datalore":{
     "node_id":"EMYg6OB5cjZymaKzlvKyCs",
     "type":"MD",
     "hide_input_from_viewers":true,
     "hide_output_from_viewers":true
    }
   }
  }
 ],
 "metadata":{
  "kernelspec":{
   "display_name":"Python",
   "language":"python",
   "name":"python"
  },
  "datalore":{
   "computation_mode":"JUPYTER",
   "package_manager":"pip",
   "base_environment":"default",
   "packages":[
    {
     "name":"pygad",
     "version":"2.19.2",
     "source":"PIP"
    }
   ],
   "report_row_ids":[
    "hRnLEv2zWeS78ljr6G6UBH",
    "ygff6UMvbdADnTWHDTA2DI",
    "4yL46k7B5HAHyJiLq4XKD7",
    "J67JfDxFysQqmg9vuaM5UK",
    "v06laocbVLPqKOYe7OPRRl",
    "ctgGxTV8TCvYSinnO2TZrj",
    "5kHnPHtprPQ2iZQSZUY9AF",
    "WP1IR2vE77hPbBrwlMYIha",
    "8YfvkWA4uiCqyLl2iHv7dt",
    "lrNZJwa6r1MvlvrYmHk4aE"
   ],
   "version":2
  }
 },
 "nbformat":4,
 "nbformat_minor":4
}
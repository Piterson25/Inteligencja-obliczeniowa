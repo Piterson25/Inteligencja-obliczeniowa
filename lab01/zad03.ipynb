{
 "cells": [
  {
   "attachments": {},
   "cell_type": "markdown",
   "metadata": {},
   "source": [
    "a) Do zmiennej miasta zostają przypisane dane z pliku miasta.csv. Wartości dla tabeli miasta.values powinny wyglądać następująco:\n",
    "[[1900  170  110  210]\n",
    " [1925  210  220  254]\n",
    " [1939  250  274  287]\n",
    " [1946  117  267   72]\n",
    " [1950  194  320  178]\n",
    " [1960  286  408  269]\n",
    " [1970  365  471  338]\n",
    " [1980  456  552  388]\n",
    " [1990  465  590  413]\n",
    " [2000  462  574  416]]"
   ]
  },
  {
   "cell_type": "code",
   "execution_count": null,
   "metadata": {},
   "outputs": [],
   "source": [
    "import pandas as pd\n",
    "import matplotlib.pyplot as plt\n",
    "\n",
    "miasta = pd.read_csv('miasta.csv')\n",
    "print(miasta.values)"
   ]
  },
  {
   "attachments": {},
   "cell_type": "markdown",
   "metadata": {},
   "source": [
    "b) Dodanie do tabeli wiersza z ludnością w 2010 roku: 2010,460,555,405, czyli 'Rok', 'Gdansk', 'Poznan', 'Szczecin'. Następnie do zmiennej\n",
    "miasta dodawany jest ten wiersz z danymi z ignore_index=True, tak aby był on na końcu tablicy miasta z indeksem 10, a nie 0."
   ]
  },
  {
   "cell_type": "code",
   "execution_count": null,
   "metadata": {},
   "outputs": [],
   "source": [
    "row = pd.DataFrame({'Rok': [2010], 'Gdansk': [460], 'Poznan': [555], 'Szczecin': [405]})\n",
    "miasta = miasta.append(row, ignore_index=True)\n",
    "print(miasta)"
   ]
  },
  {
   "attachments": {},
   "cell_type": "markdown",
   "metadata": {},
   "source": [
    "c) Stworzenie wykresu dla ludności Gdańska. Wykres jest liniowy z punktami, w kolorze czerwonym z odpowiednimi tytułami. Używany jest matplotlib."
   ]
  },
  {
   "cell_type": "code",
   "execution_count": null,
   "metadata": {},
   "outputs": [],
   "source": [
    "miasta.plot(kind='line', x='Rok', xticks=miasta.Rok, y='Gdansk', color='red',\n",
    "            xlabel=\"Lata\", ylabel='Liczba ludnosci (w tys.)', legend=False,\n",
    "            title='Ludnosc w miastach Polski', style='.-')\n",
    "plt.show()"
   ]
  },
  {
   "attachments": {},
   "cell_type": "markdown",
   "metadata": {},
   "source": [
    "d) Dodatkowy wykres, z wszystkimi miastami wraz z legendą. Ponownie liniowy z punktami."
   ]
  },
  {
   "cell_type": "code",
   "execution_count": null,
   "metadata": {},
   "outputs": [],
   "source": [
    "miasta.plot(kind='line', x='Rok', style='.-')\n",
    "plt.show()"
   ]
  },
  {
   "attachments": {},
   "cell_type": "markdown",
   "metadata": {},
   "source": [
    "e) Policzenie standaryzacji oraz wypisanie średniej i odchylenia standardowego. Średnia jest bliska zeru, a odchylenie stałe dla wszystkich miast i wynosi 1."
   ]
  },
  {
   "cell_type": "code",
   "execution_count": null,
   "metadata": {},
   "outputs": [],
   "source": [
    "print(\"\\nStandaryzacja\")\n",
    "\n",
    "miasta_std = (miasta - miasta.mean()) / miasta.std()\n",
    "print(miasta_std.mean())\n",
    "print(miasta_std.std())"
   ]
  },
  {
   "attachments": {},
   "cell_type": "markdown",
   "metadata": {},
   "source": [
    "f) Policzenie normalizacji oraz wypisanie wartości minimalnej i maksymalnej. Wartości minimalna dla wszystkich miast wyszła 0, a maksymalna 1."
   ]
  },
  {
   "cell_type": "code",
   "execution_count": null,
   "metadata": {},
   "outputs": [],
   "source": [
    "print(\"\\nNormalizacja\")\n",
    "\n",
    "miasta_norm = (miasta - miasta.min()) / (miasta.max() - miasta.min())\n",
    "\n",
    "print(miasta_norm.min())\n",
    "print(miasta_norm.max())"
   ]
  }
 ],
 "metadata": {
  "kernelspec": {
   "display_name": "Python 3",
   "language": "python",
   "name": "python3"
  },
  "language_info": {
   "codemirror_mode": {
    "name": "ipython",
    "version": 3
   },
   "file_extension": ".py",
   "mimetype": "text/x-python",
   "name": "python",
   "nbconvert_exporter": "python",
   "pygments_lexer": "ipython3",
   "version": "3.11.0"
  },
  "orig_nbformat": 4,
  "vscode": {
   "interpreter": {
    "hash": "5238573367df39f7286bb46f9ff5f08f63a01a80960060ce41e3c79b190280fa"
   }
  }
 },
 "nbformat": 4,
 "nbformat_minor": 2
}
